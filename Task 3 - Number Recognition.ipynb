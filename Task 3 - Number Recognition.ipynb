{
 "cells": [
  {
   "cell_type": "markdown",
   "metadata": {
    "id": "P9qfboCvIIGX"
   },
   "source": [
    "### Bharat Intern Internship"
   ]
  },
  {
   "cell_type": "markdown",
   "metadata": {
    "id": "_ld6Q0T6IH8u"
   },
   "source": [
    "### <b><u><center>Task 3-Number Recognition</b></u></center>"
   ]
  },
  {
   "cell_type": "markdown",
   "metadata": {
    "id": "l6rAQOPDKmrp"
   },
   "source": [
    "In this machine learning project, we will recognize handwritten characters, i.e, alphabets or digits. This we are going to achieve by modeling a neural network that will have to be trained over a dataset containing images of alphabets or digits."
   ]
  },
  {
   "cell_type": "code",
   "execution_count": 1,
   "metadata": {
    "id": "9xZjBGC8fv2K"
   },
   "outputs": [],
   "source": [
    "from numpy import unique, argmax\n",
    "from tensorflow.keras.datasets.mnist import load_data\n",
    "from tensorflow.keras import Sequential\n",
    "from tensorflow.keras.layers import Conv2D\n",
    "from tensorflow.keras.layers import MaxPool2D\n",
    "from tensorflow.keras.layers import Dense\n",
    "from tensorflow.keras.layers import Flatten\n",
    "from tensorflow.keras.layers import Dropout\n",
    "from tensorflow.keras.utils import plot_model\n",
    "from matplotlib import pyplot\n",
    "import matplotlib.pyplot as plt\n",
    "import numpy as np"
   ]
  },
  {
   "cell_type": "code",
   "execution_count": 2,
   "metadata": {
    "colab": {
     "base_uri": "https://localhost:8080/"
    },
    "id": "nsNKqqcToXX9",
    "outputId": "3989e6cc-3505-40ed-ccaf-b04a3263c2a5"
   },
   "outputs": [],
   "source": [
    "# loading the MNIST dataset\n",
    "(x_train, y_train), (x_test, y_test) = load_data()\n",
    "\n",
    "# reshaping the training and testing data\n",
    "x_train = x_train.reshape((x_train.shape[0], x_train.shape[1],\n",
    "x_train.shape[2], 1))\n",
    "x_test = x_test.reshape((x_test.shape[0], x_test.shape[1], x_test.shape[2], 1))"
   ]
  },
  {
   "cell_type": "code",
   "execution_count": 3,
   "metadata": {
    "id": "sCMjAd21pBXz"
   },
   "outputs": [],
   "source": [
    "# normalizing the values of pixels of images\n",
    "x_train = x_train.astype('float32') / 255.0\n",
    "x_test= x_test.astype('float32') / 255.0"
   ]
  },
  {
   "cell_type": "code",
   "execution_count": 4,
   "metadata": {
    "colab": {
     "base_uri": "https://localhost:8080/",
     "height": 218
    },
    "id": "T1fWMd5ApOPK",
    "outputId": "5de1b3f7-3d10-441b-f31f-d932193f97f3"
   },
   "outputs": [
    {
     "data": {
      "image/png": "[encoded data removed]",
      "text/plain": [
       "<Figure size 360x216 with 15 Axes>"
      ]
     },
     "metadata": {},
     "output_type": "display_data"
    }
   ],
   "source": [
    "fig = plt.figure(figsize=(5,3))\n",
    "for i in range(15):\n",
    "  ax = fig.add_subplot (2,10, i+1, xticks=[], yticks=[])\n",
    "  ax.imshow(np.squeeze (x_train[i]), cmap='gray')\n",
    "  ax.set_title(y_train[i])"
   ]
  },
  {
   "cell_type": "code",
   "execution_count": 5,
   "metadata": {
    "colab": {
     "base_uri": "https://localhost:8080/"
    },
    "id": "_dG8lk3Mp0HE",
    "outputId": "f577db58-d1e3-435c-a9a5-ca1b824b82ca"
   },
   "outputs": [
    {
     "name": "stdout",
     "output_type": "stream",
     "text": [
      "(28, 28, 1)\n"
     ]
    }
   ],
   "source": [
    "# determine the shape of input images\n",
    "img_shape = x_train.shape[1:]\n",
    "print(img_shape)"
   ]
  },
  {
   "cell_type": "code",
   "execution_count": 6,
   "metadata": {
    "id": "IvAajz6ap9q0"
   },
   "outputs": [],
   "source": [
    "# defining the model\n",
    "model = Sequential()\n",
    "model.add(Conv2D (32, (3,3), activation='relu', input_shape=img_shape))\n",
    "model.add(MaxPool2D((2, 2)))\n",
    "model.add(Conv2D (48, (3,3), activation='relu'))\n",
    "model.add(MaxPool2D((2, 2)))\n",
    "model.add(Dropout (0.5))\n",
    "model.add(Flatten())\n",
    "model.add(Dense (500, activation= 'relu'))\n",
    "model.add(Dense (10, activation='softmax'))"
   ]
  },
  {
   "cell_type": "code",
   "execution_count": 7,
   "metadata": {
    "colab": {
     "base_uri": "https://localhost:8080/"
    },
    "id": "NQ4NJzVyq2Ga",
    "outputId": "a199a8db-f5bc-4438-af9a-d1ecfdc87b38"
   },
   "outputs": [
    {
     "name": "stdout",
     "output_type": "stream",
     "text": [
      "Model: \"sequential\"\n",
      "_________________________________________________________________\n",
      " Layer (type)                Output Shape              Param #   \n",
      "=================================================================\n",
      " conv2d (Conv2D)             (None, 26, 26, 32)        320       \n",
      "                                                                 \n",
      " max_pooling2d (MaxPooling2D  (None, 13, 13, 32)       0         \n",
      " )                                                               \n",
      "                                                                 \n",
      " conv2d_1 (Conv2D)           (None, 11, 11, 48)        13872     \n",
      "                                                                 \n",
      " max_pooling2d_1 (MaxPooling  (None, 5, 5, 48)         0         \n",
      " 2D)                                                             \n",
      "                                                                 \n",
      " dropout (Dropout)           (None, 5, 5, 48)          0         \n",
      "                                                                 \n",
      " flatten (Flatten)           (None, 1200)              0         \n",
      "                                                                 \n",
      " dense (Dense)               (None, 500)               600500    \n",
      "                                                                 \n",
      " dense_1 (Dense)             (None, 10)                5010      \n",
      "                                                                 \n",
      "=================================================================\n",
      "Total params: 619,702\n",
      "Trainable params: 619,702\n",
      "Non-trainable params: 0\n",
      "_________________________________________________________________\n"
     ]
    }
   ],
   "source": [
    "model.summary()"
   ]
  },
  {
   "cell_type": "code",
   "execution_count": 8,
   "metadata": {
    "colab": {
     "base_uri": "https://localhost:8080/",
     "height": 976
    },
    "id": "XiKopO6LrP89",
    "outputId": "e3fea82e-9176-4f51-b6b6-989bf07acb62"
   },
   "outputs": [
    {
     "name": "stdout",
     "output_type": "stream",
     "text": [
      "You must install pydot (`pip install pydot`) and install graphviz (see instructions at https://graphviz.gitlab.io/download/) for plot_model to work.\n"
     ]
    }
   ],
   "source": [
    "plot_model(model, 'model.jpg', show_shapes=True)"
   ]
  },
  {
   "cell_type": "code",
   "execution_count": 9,
   "metadata": {
    "id": "ORgfeVsBBwgD"
   },
   "outputs": [],
   "source": [
    "epochs = range(10)"
   ]
  },
  {
   "cell_type": "code",
   "execution_count": 10,
   "metadata": {
    "colab": {
     "base_uri": "https://localhost:8080/"
    },
    "id": "MsVqk0y6tTjJ",
    "outputId": "42327e38-d93d-4286-cea4-f8bbfe015ced"
   },
   "outputs": [
    {
     "name": "stdout",
     "output_type": "stream",
     "text": [
      "Epoch 1/10\n",
      "422/422 - 38s - loss: 0.2355 - accuracy: 0.9292 - val_loss: 0.0704 - val_accuracy: 0.9808 - 38s/epoch - 91ms/step\n",
      "Epoch 2/10\n",
      "422/422 - 35s - loss: 0.0839 - accuracy: 0.9738 - val_loss: 0.0385 - val_accuracy: 0.9900 - 35s/epoch - 83ms/step\n",
      "Epoch 3/10\n",
      "422/422 - 35s - loss: 0.0589 - accuracy: 0.9817 - val_loss: 0.0348 - val_accuracy: 0.9897 - 35s/epoch - 84ms/step\n",
      "Epoch 4/10\n",
      "422/422 - 35s - loss: 0.0486 - accuracy: 0.9844 - val_loss: 0.0276 - val_accuracy: 0.9920 - 35s/epoch - 84ms/step\n",
      "Epoch 5/10\n",
      "422/422 - 35s - loss: 0.0412 - accuracy: 0.9871 - val_loss: 0.0303 - val_accuracy: 0.9917 - 35s/epoch - 83ms/step\n",
      "Epoch 6/10\n",
      "422/422 - 35s - loss: 0.0357 - accuracy: 0.9884 - val_loss: 0.0293 - val_accuracy: 0.9920 - 35s/epoch - 83ms/step\n",
      "Epoch 7/10\n",
      "422/422 - 36s - loss: 0.0314 - accuracy: 0.9898 - val_loss: 0.0267 - val_accuracy: 0.9933 - 36s/epoch - 85ms/step\n",
      "Epoch 8/10\n",
      "422/422 - 37s - loss: 0.0285 - accuracy: 0.9901 - val_loss: 0.0272 - val_accuracy: 0.9932 - 37s/epoch - 87ms/step\n",
      "Epoch 9/10\n",
      "422/422 - 37s - loss: 0.0261 - accuracy: 0.9909 - val_loss: 0.0298 - val_accuracy: 0.9920 - 37s/epoch - 88ms/step\n",
      "Epoch 10/10\n",
      "422/422 - 36s - loss: 0.0247 - accuracy: 0.9916 - val_loss: 0.0242 - val_accuracy: 0.9935 - 36s/epoch - 85ms/step\n"
     ]
    }
   ],
   "source": [
    "model.compile(optimizer='adam', loss='sparse_categorical_crossentropy', metrics=['accuracy'])\n",
    "x=model.fit(x_train, y_train, epochs=10, batch_size=128, verbose=2, validation_split=0.1)"
   ]
  },
  {
   "cell_type": "code",
   "execution_count": 11,
   "metadata": {
    "colab": {
     "base_uri": "https://localhost:8080/"
    },
    "id": "FHKcYuuRBLKE",
    "outputId": "460f57b4-c8ed-4566-9a1c-0bab51b7fc0d"
   },
   "outputs": [
    {
     "name": "stdout",
     "output_type": "stream",
     "text": [
      "Accuracy: 99.37000274658203\n"
     ]
    }
   ],
   "source": [
    "loss, accuracy = model.evaluate(x_test, y_test, verbose=0)\n",
    "print (f'Accuracy: {accuracy*100}')"
   ]
  },
  {
   "cell_type": "code",
   "execution_count": 12,
   "metadata": {
    "colab": {
     "base_uri": "https://localhost:8080/",
     "height": 430
    },
    "id": "Vc2NfvMPGs-4",
    "outputId": "788f84a8-5edb-4e8d-8907-57e114166147"
   },
   "outputs": [
    {
     "data": {
      "image/png": "[encoded data removed]",
      "text/plain": [
       "<Figure size 432x288 with 1 Axes>"
      ]
     },
     "metadata": {
      "needs_background": "light"
     },
     "output_type": "display_data"
    }
   ],
   "source": [
    "image = x_train[5]\n",
    "\n",
    "# lets display the image which we want to predict\n",
    "plt.imshow(np.squeeze (image), cmap='gray')\n",
    "plt.show()"
   ]
  },
  {
   "cell_type": "code",
   "execution_count": 13,
   "metadata": {
    "colab": {
     "base_uri": "https://localhost:8080/"
    },
    "id": "kTsS9DvKHExM",
    "outputId": "75e4a75c-f053-4879-ea1b-50e436c8734f"
   },
   "outputs": [
    {
     "name": "stdout",
     "output_type": "stream",
     "text": [
      "1/1 [==============================] - 0s 333ms/step\n",
      "Predicted: 2\n"
     ]
    }
   ],
   "source": [
    "image = image.reshape(1,image.shape[0], image.shape[1], image.shape[2])\n",
    "p = model.predict([image])\n",
    "print('Predicted: {}'.format(argmax(p)))"
   ]
  }
 ],
 "metadata": {
  "colab": {
   "provenance": []
  },
  "kernelspec": {
   "display_name": "Python 3 (ipykernel)",
   "language": "python",
   "name": "python3"
  },
  "language_info": {
   "codemirror_mode": {
    "name": "ipython",
    "version": 3
   },
   "file_extension": ".py",
   "mimetype": "text/x-python",
   "name": "python",
   "nbconvert_exporter": "python",
   "pygments_lexer": "ipython3",
   "version": "3.9.12"
  }
 },
 "nbformat": 4,
 "nbformat_minor": 1
}
